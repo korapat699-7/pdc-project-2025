{
 "cells": [
  {
   "cell_type": "markdown",
   "metadata": {},
   "source": [
    "# A.653040629-9, 653040699-7 then sum of last to digit is 99 + 97\n",
    "# B.find parameter x0 with 653040629-9 and 653040699-7 modulo by 100."
   ]
  },
  {
   "cell_type": "code",
   "execution_count": 2,
   "metadata": {},
   "outputs": [],
   "source": [
    "import numpy as np\n",
    "import matplotlib.pyplot as plt\n",
    "from scipy.signal import correlate\n",
    "from scipy.stats import norm"
   ]
  },
  {
   "cell_type": "code",
   "execution_count": 3,
   "metadata": {},
   "outputs": [],
   "source": [
    "def findParameter(student1, student2):\n",
    "    return (student1 + student2) % 100 # (student1 + student2) mod by 100"
   ]
  },
  {
   "cell_type": "code",
   "execution_count": 4,
   "metadata": {},
   "outputs": [],
   "source": [
    "x = []\n",
    "x0 = findParameter(99, 97) # result is 96\n",
    "x1 = 7 # from document define x1 = 7"
   ]
  },
  {
   "cell_type": "markdown",
   "metadata": {},
   "source": [
    "C.find parameter x[n], n is member of (1, 2, 3, ... n)"
   ]
  },
  {
   "cell_type": "code",
   "execution_count": 5,
   "metadata": {},
   "outputs": [],
   "source": [
    "def findX():\n",
    "    x.append(x0)\n",
    "    x.append(x1)\n",
    "    for i in range(1,5):\n",
    "        x_temp = (((3 * x[i]) + (2 * x[i-1])) % 19 ) + 2\n",
    "        x.append(x_temp)"
   ]
  },
  {
   "cell_type": "code",
   "execution_count": 6,
   "metadata": {},
   "outputs": [
    {
     "name": "stdout",
     "output_type": "stream",
     "text": [
      "x0: 96\n",
      "x1: 7\n",
      "x2: 6\n",
      "x3: 15\n",
      "x4: 2\n"
     ]
    }
   ],
   "source": [
    "findX()\n",
    "for i in range(0,5):\n",
    "    print(f\"x{i}: {x[i]}\")"
   ]
  },
  {
   "cell_type": "code",
   "execution_count": 7,
   "metadata": {},
   "outputs": [],
   "source": [
    "ln_2x3 = np.log(2 * x[3])\n",
    "T1 = ln_2x3 / 4\n",
    "T2 = ln_2x3 / 2\n",
    "T3 = 3 * ln_2x3 / 4"
   ]
  },
  {
   "cell_type": "markdown",
   "metadata": {},
   "source": [
    "ค่าของสัญญาณ"
   ]
  },
  {
   "cell_type": "code",
   "execution_count": 8,
   "metadata": {},
   "outputs": [],
   "source": [
    "A = 2 * np.log(x[2])\n",
    "B = 2 / np.sqrt(ln_2x3)"
   ]
  },
  {
   "cell_type": "markdown",
   "metadata": {},
   "source": [
    "คำนวณค่า y1s(ln(2x3)), y2s(ln(2x3)), y3s(ln(2x3))"
   ]
  },
  {
   "cell_type": "code",
   "execution_count": 9,
   "metadata": {},
   "outputs": [],
   "source": [
    "def matched_filter_output(t):\n",
    "    if 0 <= t < T2:\n",
    "        return (4 * A / np.sqrt(ln_2x3)) * (t / (ln_2x3 / 4))\n",
    "    elif T2 <= t <= T3:\n",
    "        return (4 * A / np.sqrt(ln_2x3)) * (1 - (t - T2) / (ln_2x3 / 4))\n",
    "    else:\n",
    "        return 0"
   ]
  },
  {
   "cell_type": "code",
   "execution_count": 10,
   "metadata": {},
   "outputs": [],
   "source": [
    "y1_val = matched_filter_output(ln_2x3)\n",
    "y2_val = matched_filter_output(ln_2x3 - T1)\n",
    "y3_val = matched_filter_output(ln_2x3 - T2)"
   ]
  },
  {
   "cell_type": "markdown",
   "metadata": {},
   "source": [
    "แสดงเวกเตอร์ r"
   ]
  },
  {
   "cell_type": "code",
   "execution_count": 11,
   "metadata": {},
   "outputs": [
    {
     "name": "stdout",
     "output_type": "stream",
     "text": [
      "Vector r at t = ln(2x3):\n",
      "[0.00000000e+00 8.62907030e-16 7.77237556e+00]\n"
     ]
    }
   ],
   "source": [
    "r = np.array([y1_val, y2_val, y3_val])\n",
    "print(\"Vector r at t = ln(2x3):\")\n",
    "print(r)"
   ]
  },
  {
   "cell_type": "markdown",
   "metadata": {},
   "source": [
    "Given values from matched filter output"
   ]
  },
  {
   "cell_type": "code",
   "execution_count": 12,
   "metadata": {},
   "outputs": [],
   "source": [
    "y1_s1 = y1_val  # Matched filter output y1 at ln(2x3)\n",
    "y2_s1 = y2_val  # Matched filter output y2 at ln(2x3)\n",
    "y3_s1 = y3_val  # Matched filter output y3 at ln(2x3)"
   ]
  },
  {
   "cell_type": "markdown",
   "metadata": {},
   "source": [
    "Assume noise variance (sigma^2) (you can change this based on the problem setting)"
   ]
  },
  {
   "cell_type": "code",
   "execution_count": 13,
   "metadata": {},
   "outputs": [],
   "source": [
    "sigma2 = 1  # Example variance\n",
    "sigma = np.sqrt(sigma2)"
   ]
  },
  {
   "cell_type": "markdown",
   "metadata": {},
   "source": [
    "Compute conditional probability density functions"
   ]
  },
  {
   "cell_type": "code",
   "execution_count": 14,
   "metadata": {},
   "outputs": [],
   "source": [
    "f_r1_given_s1 = norm.pdf(y1_s1, loc=y1_s1, scale=sigma)\n",
    "f_r2_given_s1 = norm.pdf(y2_s1, loc=y2_s1, scale=sigma)\n",
    "f_r3_given_s1 = norm.pdf(y3_s1, loc=y3_s1, scale=sigma)"
   ]
  },
  {
   "cell_type": "markdown",
   "metadata": {},
   "source": [
    "Print results"
   ]
  },
  {
   "cell_type": "code",
   "execution_count": 15,
   "metadata": {},
   "outputs": [
    {
     "name": "stdout",
     "output_type": "stream",
     "text": [
      "f(r1 | s1): 0.3989422804014327\n",
      "f(r2 | s1): 0.3989422804014327\n",
      "f(r3 | s1): 0.3989422804014327\n"
     ]
    }
   ],
   "source": [
    "print(\"f(r1 | s1):\", f_r1_given_s1)\n",
    "print(\"f(r2 | s1):\", f_r2_given_s1)\n",
    "print(\"f(r3 | s1):\", f_r3_given_s1)"
   ]
  }
 ],
 "metadata": {
  "kernelspec": {
   "display_name": "Orange",
   "language": "python",
   "name": "python3"
  },
  "language_info": {
   "codemirror_mode": {
    "name": "ipython",
    "version": 3
   },
   "file_extension": ".py",
   "mimetype": "text/x-python",
   "name": "python",
   "nbconvert_exporter": "python",
   "pygments_lexer": "ipython3",
   "version": "3.11.8"
  }
 },
 "nbformat": 4,
 "nbformat_minor": 2
}
